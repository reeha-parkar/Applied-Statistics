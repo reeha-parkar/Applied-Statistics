{
 "cells": [
  {
   "cell_type": "markdown",
   "metadata": {},
   "source": [
    "## Detecting outliers"
   ]
  },
  {
   "cell_type": "code",
   "execution_count": 1,
   "metadata": {},
   "outputs": [],
   "source": [
    "import seaborn as sns\n",
    "import matplotlib.pyplot as plt\n",
    "import pandas as pd\n",
    "import numpy as np"
   ]
  },
  {
   "cell_type": "code",
   "execution_count": 2,
   "metadata": {},
   "outputs": [],
   "source": [
    "tips_data = sns.load_dataset('tips')"
   ]
  },
  {
   "cell_type": "code",
   "execution_count": 3,
   "metadata": {},
   "outputs": [
    {
     "data": {
      "text/html": [
       "<div>\n",
       "<style scoped>\n",
       "    .dataframe tbody tr th:only-of-type {\n",
       "        vertical-align: middle;\n",
       "    }\n",
       "\n",
       "    .dataframe tbody tr th {\n",
       "        vertical-align: top;\n",
       "    }\n",
       "\n",
       "    .dataframe thead th {\n",
       "        text-align: right;\n",
       "    }\n",
       "</style>\n",
       "<table border=\"1\" class=\"dataframe\">\n",
       "  <thead>\n",
       "    <tr style=\"text-align: right;\">\n",
       "      <th></th>\n",
       "      <th>total_bill</th>\n",
       "      <th>tip</th>\n",
       "      <th>sex</th>\n",
       "      <th>smoker</th>\n",
       "      <th>day</th>\n",
       "      <th>time</th>\n",
       "      <th>size</th>\n",
       "    </tr>\n",
       "  </thead>\n",
       "  <tbody>\n",
       "    <tr>\n",
       "      <th>0</th>\n",
       "      <td>16.99</td>\n",
       "      <td>1.01</td>\n",
       "      <td>Female</td>\n",
       "      <td>No</td>\n",
       "      <td>Sun</td>\n",
       "      <td>Dinner</td>\n",
       "      <td>2</td>\n",
       "    </tr>\n",
       "    <tr>\n",
       "      <th>1</th>\n",
       "      <td>10.34</td>\n",
       "      <td>1.66</td>\n",
       "      <td>Male</td>\n",
       "      <td>No</td>\n",
       "      <td>Sun</td>\n",
       "      <td>Dinner</td>\n",
       "      <td>3</td>\n",
       "    </tr>\n",
       "    <tr>\n",
       "      <th>2</th>\n",
       "      <td>21.01</td>\n",
       "      <td>3.50</td>\n",
       "      <td>Male</td>\n",
       "      <td>No</td>\n",
       "      <td>Sun</td>\n",
       "      <td>Dinner</td>\n",
       "      <td>3</td>\n",
       "    </tr>\n",
       "    <tr>\n",
       "      <th>3</th>\n",
       "      <td>23.68</td>\n",
       "      <td>3.31</td>\n",
       "      <td>Male</td>\n",
       "      <td>No</td>\n",
       "      <td>Sun</td>\n",
       "      <td>Dinner</td>\n",
       "      <td>2</td>\n",
       "    </tr>\n",
       "    <tr>\n",
       "      <th>4</th>\n",
       "      <td>24.59</td>\n",
       "      <td>3.61</td>\n",
       "      <td>Female</td>\n",
       "      <td>No</td>\n",
       "      <td>Sun</td>\n",
       "      <td>Dinner</td>\n",
       "      <td>4</td>\n",
       "    </tr>\n",
       "  </tbody>\n",
       "</table>\n",
       "</div>"
      ],
      "text/plain": [
       "   total_bill   tip     sex smoker  day    time  size\n",
       "0       16.99  1.01  Female     No  Sun  Dinner     2\n",
       "1       10.34  1.66    Male     No  Sun  Dinner     3\n",
       "2       21.01  3.50    Male     No  Sun  Dinner     3\n",
       "3       23.68  3.31    Male     No  Sun  Dinner     2\n",
       "4       24.59  3.61  Female     No  Sun  Dinner     4"
      ]
     },
     "execution_count": 3,
     "metadata": {},
     "output_type": "execute_result"
    }
   ],
   "source": [
    "tips_data.head()"
   ]
  },
  {
   "cell_type": "code",
   "execution_count": 4,
   "metadata": {},
   "outputs": [
    {
     "data": {
      "image/png": "[encoded data removed]",
      "text/plain": [
       "<Figure size 432x288 with 1 Axes>"
      ]
     },
     "metadata": {
      "needs_background": "light"
     },
     "output_type": "display_data"
    }
   ],
   "source": [
    "# Box plot shows the outliers clearly, hence, plotting it\n",
    "sns.boxplot(tips_data['tip']).set_title('Box plot of the tips received')\n",
    "plt.show()"
   ]
  },
  {
   "cell_type": "code",
   "execution_count": 5,
   "metadata": {},
   "outputs": [
    {
     "data": {
      "image/png": "[encoded data removed]",
      "text/plain": [
       "<Figure size 432x288 with 1 Axes>"
      ]
     },
     "metadata": {
      "needs_background": "light"
     },
     "output_type": "display_data"
    }
   ],
   "source": [
    "sns.boxplot(tips_data['total_bill']).set_title('Box plot of the total bill received')\n",
    "plt.show()"
   ]
  },
  {
   "cell_type": "code",
   "execution_count": 27,
   "metadata": {},
   "outputs": [],
   "source": [
    "# Function to detect outliers by the Inter Quartile Range method\n",
    "def detect_outliers(data, lb, ub):\n",
    "    outliers = []\n",
    "    for i in data:\n",
    "        if i<=lb or i>=ub:\n",
    "            outliers.append(i)\n",
    "    return outliers"
   ]
  },
  {
   "cell_type": "code",
   "execution_count": 28,
   "metadata": {},
   "outputs": [
    {
     "name": "stdout",
     "output_type": "stream",
     "text": [
      "Q1 =  2.0\n",
      "Q3 =  3.5624999999999996\n",
      "IQR =  1.5624999999999996\n",
      "Lower bound =  -0.3437499999999991\n",
      "Upper bound =  5.906249999999998\n",
      "Outliers of the tip column are:  {5.92, 6.7, 6.73, 6.5, 6.0, 10.0, 7.58, 9.0}\n",
      "Number of outliers of the tip column are:  8\n"
     ]
    }
   ],
   "source": [
    "# Getting the 25% and 75% values for the inter quartile range of the 'tip' column\n",
    "Q1, Q3 = np.percentile(tips_data['tip'], [25, 75])\n",
    "print('Q1 = ', Q1)\n",
    "print('Q3 = ', Q3)\n",
    "\n",
    "# Calculating the Inter Quartile Range (middle 50% of the data)\n",
    "IQR = Q3 - Q1\n",
    "print('IQR = ', IQR)\n",
    "\n",
    "# Getting the lower and upper bounds to get outliers beyond these values\n",
    "lb = Q1 - (1.5*IQR)\n",
    "ub = Q3 + (1.5*IQR)\n",
    "print('Lower bound = ', lb)\n",
    "print('Upper bound = ', ub)\n",
    "\n",
    "# Applying the function to 'tip' column\n",
    "outliers = detect_outliers(tips_data['tip'], lb, ub)\n",
    "y = set(outliers)\n",
    "print('Outliers of the tip column are: ',y)\n",
    "print('Number of outliers of the tip column are: ',len(y))"
   ]
  },
  {
   "cell_type": "code",
   "execution_count": 29,
   "metadata": {},
   "outputs": [
    {
     "name": "stdout",
     "output_type": "stream",
     "text": [
      "Q1 =  13.3475\n",
      "Q3 =  24.127499999999998\n",
      "IQR =  10.779999999999998\n",
      "Lower bound =  -2.8224999999999945\n",
      "Upper bound =  40.29749999999999\n",
      "Outliers of the total_bill column are:  {40.55, 41.19, 43.11, 44.3, 45.35, 48.27, 48.17, 50.81, 48.33}\n",
      "Number of outliers of the total_bill column are:  9\n"
     ]
    }
   ],
   "source": [
    "# Getting the 25% and 75% values for the inter quartile range of the 'total_bill' column\n",
    "Q1, Q3 = np.percentile(tips_data['total_bill'], [25, 75])\n",
    "print('Q1 = ', Q1)\n",
    "print('Q3 = ', Q3)\n",
    "\n",
    "# Calculating the Inter Quartile Range (middle 50% of the data)\n",
    "IQR = Q3 - Q1\n",
    "print('IQR = ', IQR)\n",
    "\n",
    "# Getting the lower and upper bounds to get outliers beyond these values\n",
    "lb = Q1 - (1.5*IQR)\n",
    "ub = Q3 + (1.5*IQR)\n",
    "print('Lower bound = ', lb)\n",
    "print('Upper bound = ', ub)\n",
    "\n",
    "# Applying the function to 'total_bill' column\n",
    "outliers = detect_outliers(tips_data['total_bill'], lb, ub)\n",
    "y = set(outliers)\n",
    "print('Outliers of the total_bill column are: ', y)\n",
    "print('Number of outliers of the total_bill column are: ', len(y))"
   ]
  },
  {
   "cell_type": "code",
   "execution_count": 30,
   "metadata": {},
   "outputs": [],
   "source": [
    "# Function to detect outliers by the z - factor method\n",
    "def calculate_outliers(data, threshold):\n",
    "    outliers = []\n",
    "    std = np.std(data)\n",
    "    mean = np.mean(data)\n",
    "    print(std, mean)\n",
    "    for num in data:\n",
    "        z = (num-mean) / std # calculating the z factor\n",
    "        \n",
    "        if z > threshold: # \n",
    "            outliers.append(num)\n",
    "            \n",
    "    return set(outliers)"
   ]
  },
  {
   "cell_type": "code",
   "execution_count": 34,
   "metadata": {},
   "outputs": [
    {
     "name": "stdout",
     "output_type": "stream",
     "text": [
      "1.3807999538298954 2.99827868852459\n",
      "Outliers of tip column =  {5.92, 6.7, 6.73, 6.5, 6.0, 10.0, 7.58, 9.0}\n",
      "Number of outliers of tip column =  8\n"
     ]
    }
   ],
   "source": [
    "# Applying the function to 'tip' column\n",
    "tip_outliers = calculate_outliers(tips_data['tip'], 2.1) # 3 is generally taken as threshold, can alter it as needed\n",
    "print('Outliers of tip column = ', tip_outliers)\n",
    "print('Number of outliers of tip column = ', len(tip_outliers))"
   ]
  },
  {
   "cell_type": "code",
   "execution_count": 36,
   "metadata": {},
   "outputs": [
    {
     "name": "stdout",
     "output_type": "stream",
     "text": [
      "8.884150577771132 19.78594262295082\n",
      "Outliers of tip column =  {5.92, 6.7, 6.73, 6.5, 6.0, 10.0, 7.58, 9.0}\n",
      "Number of outliers of total_bill column =  9\n"
     ]
    }
   ],
   "source": [
    "# Applying the function to 'total_bill' column\n",
    "total_bill_outliers = calculate_outliers(tips_data['total_bill'], 2.3)\n",
    "print('Outliers of tip column = ', tip_outliers)\n",
    "print('Number of outliers of total_bill column = ', len(total_bill_outliers))"
   ]
  },
  {
   "cell_type": "code",
   "execution_count": 38,
   "metadata": {},
   "outputs": [
    {
     "data": {
      "image/png": "[encoded data removed]",
      "text/plain": [
       "<Figure size 360x360 with 1 Axes>"
      ]
     },
     "metadata": {
      "needs_background": "light"
     },
     "output_type": "display_data"
    }
   ],
   "source": [
    "# Making a scatter plot to detect outliers from this graph\n",
    "sns.relplot(x='total_bill', y='tip', data=tips_data)\n",
    "plt.show()"
   ]
  }
 ],
 "metadata": {
  "kernelspec": {
   "display_name": "Python [stats]",
   "language": "python",
   "name": "stats"
  },
  "language_info": {
   "codemirror_mode": {
    "name": "ipython",
    "version": 3
   },
   "file_extension": ".py",
   "mimetype": "text/x-python",
   "name": "python",
   "nbconvert_exporter": "python",
   "pygments_lexer": "ipython3",
   "version": "3.5.6"
  }
 },
 "nbformat": 4,
 "nbformat_minor": 2
}
