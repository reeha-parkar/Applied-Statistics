{
 "cells": [
  {
   "cell_type": "markdown",
   "metadata": {},
   "source": [
    "### Data Types"
   ]
  },
  {
   "cell_type": "code",
   "execution_count": 1,
   "metadata": {},
   "outputs": [],
   "source": [
    "import math"
   ]
  },
  {
   "cell_type": "code",
   "execution_count": 2,
   "metadata": {},
   "outputs": [
    {
     "data": {
      "text/plain": [
       "int"
      ]
     },
     "execution_count": 2,
     "metadata": {},
     "output_type": "execute_result"
    }
   ],
   "source": [
    "type(4)"
   ]
  },
  {
   "cell_type": "code",
   "execution_count": 3,
   "metadata": {},
   "outputs": [
    {
     "data": {
      "text/plain": [
       "float"
      ]
     },
     "execution_count": 3,
     "metadata": {},
     "output_type": "execute_result"
    }
   ],
   "source": [
    "type(0.2)"
   ]
  },
  {
   "cell_type": "code",
   "execution_count": 4,
   "metadata": {},
   "outputs": [
    {
     "data": {
      "text/plain": [
       "0.005859375"
      ]
     },
     "execution_count": 4,
     "metadata": {},
     "output_type": "execute_result"
    }
   ],
   "source": [
    "6*2**-10"
   ]
  },
  {
   "cell_type": "code",
   "execution_count": 5,
   "metadata": {},
   "outputs": [
    {
     "data": {
      "text/plain": [
       "float"
      ]
     },
     "execution_count": 5,
     "metadata": {},
     "output_type": "execute_result"
    }
   ],
   "source": [
    "type(3/5)"
   ]
  },
  {
   "cell_type": "code",
   "execution_count": 6,
   "metadata": {},
   "outputs": [
    {
     "data": {
      "text/plain": [
       "float"
      ]
     },
     "execution_count": 6,
     "metadata": {},
     "output_type": "execute_result"
    }
   ],
   "source": [
    "type(math.pi)"
   ]
  },
  {
   "cell_type": "code",
   "execution_count": 7,
   "metadata": {},
   "outputs": [
    {
     "data": {
      "text/plain": [
       "3.141592653589793"
      ]
     },
     "execution_count": 7,
     "metadata": {},
     "output_type": "execute_result"
    }
   ],
   "source": [
    "math.pi"
   ]
  },
  {
   "cell_type": "code",
   "execution_count": 8,
   "metadata": {},
   "outputs": [
    {
     "name": "stdout",
     "output_type": "stream",
     "text": [
      "<class 'bool'>\n",
      "<class 'bool'>\n",
      "<class 'bool'>\n",
      "<class 'bool'>\n"
     ]
    }
   ],
   "source": [
    "my_list = [None is None, 6 > 5, 1 == 3, True]\n",
    "for i in my_list:\n",
    "    print(type(i))"
   ]
  },
  {
   "cell_type": "code",
   "execution_count": 9,
   "metadata": {},
   "outputs": [
    {
     "data": {
      "text/plain": [
       "str"
      ]
     },
     "execution_count": 9,
     "metadata": {},
     "output_type": "execute_result"
    }
   ],
   "source": [
    "type('some string')"
   ]
  },
  {
   "cell_type": "code",
   "execution_count": 10,
   "metadata": {},
   "outputs": [
    {
     "data": {
      "text/plain": [
       "NoneType"
      ]
     },
     "execution_count": 10,
     "metadata": {},
     "output_type": "execute_result"
    }
   ],
   "source": [
    "type(None)"
   ]
  },
  {
   "cell_type": "code",
   "execution_count": 11,
   "metadata": {},
   "outputs": [
    {
     "data": {
      "text/plain": [
       "4"
      ]
     },
     "execution_count": 11,
     "metadata": {},
     "output_type": "execute_result"
    }
   ],
   "source": [
    "len(my_list)"
   ]
  },
  {
   "cell_type": "code",
   "execution_count": 12,
   "metadata": {},
   "outputs": [
    {
     "data": {
      "text/plain": [
       "int"
      ]
     },
     "execution_count": 12,
     "metadata": {},
     "output_type": "execute_result"
    }
   ],
   "source": [
    "type(len(my_list))"
   ]
  },
  {
   "cell_type": "code",
   "execution_count": 13,
   "metadata": {},
   "outputs": [
    {
     "name": "stdout",
     "output_type": "stream",
     "text": [
      "2.0\n"
     ]
    }
   ],
   "source": [
    "another_list = [1, 2, 3]\n",
    "print(sum(another_list)/len(another_list))"
   ]
  },
  {
   "cell_type": "markdown",
   "metadata": {},
   "source": [
    "### Numpy"
   ]
  },
  {
   "cell_type": "code",
   "execution_count": 14,
   "metadata": {},
   "outputs": [],
   "source": [
    "import numpy as np"
   ]
  },
  {
   "cell_type": "code",
   "execution_count": 15,
   "metadata": {},
   "outputs": [
    {
     "name": "stdout",
     "output_type": "stream",
     "text": [
      "a = \n",
      "[1 2 3]\n",
      "Type:  <class 'numpy.ndarray'>\n",
      "Shape:  (3,)\n",
      "1 2\n",
      "b = \n",
      "[[1 2]\n",
      " [3 4]]\n",
      "Type:  <class 'numpy.ndarray'>\n",
      "Shape:  (2, 2)\n",
      "2 4\n",
      "c = \n",
      "[[1 2 3]\n",
      " [4 5 6]\n",
      " [7 8 9]]\n",
      "Type:  <class 'numpy.ndarray'>\n",
      "Shape:  (3, 3)\n",
      "2 5 9\n"
     ]
    }
   ],
   "source": [
    "a = np.array([1, 2, 3]) #3x1 matrix\n",
    "print('a = ')\n",
    "print(a)\n",
    "print('Type: ', type(a))\n",
    "print('Shape: ', a.shape)\n",
    "print(a[0], a[1])\n",
    "b = np.array([[1, 2], [3, 4]]) #2x2 matrix\n",
    "print('b = ')\n",
    "print(b)\n",
    "print('Type: ', type(b))\n",
    "print('Shape: ', b.shape)\n",
    "print(b[0,1], b[1,1])\n",
    "c = np.array([[1, 2, 3], [4, 5, 6], [7, 8, 9]])\n",
    "print('c = ')\n",
    "print(c)\n",
    "print('Type: ', type(c))\n",
    "print('Shape: ', c.shape)\n",
    "print(c[0,1], c[1,1], c[2,2])"
   ]
  },
  {
   "cell_type": "code",
   "execution_count": 16,
   "metadata": {},
   "outputs": [
    {
     "data": {
      "text/plain": [
       "array([[0., 0., 0.],\n",
       "       [0., 0., 0.],\n",
       "       [0., 0., 0.]])"
      ]
     },
     "execution_count": 16,
     "metadata": {},
     "output_type": "execute_result"
    }
   ],
   "source": [
    "z = np.zeros((3, 3))\n",
    "z"
   ]
  },
  {
   "cell_type": "code",
   "execution_count": 17,
   "metadata": {},
   "outputs": [
    {
     "data": {
      "text/plain": [
       "array([[1., 1., 1., 1., 1.],\n",
       "       [1., 1., 1., 1., 1.],\n",
       "       [1., 1., 1., 1., 1.],\n",
       "       [1., 1., 1., 1., 1.]])"
      ]
     },
     "execution_count": 17,
     "metadata": {},
     "output_type": "execute_result"
    }
   ],
   "source": [
    "o = np.ones((4, 5))\n",
    "o"
   ]
  },
  {
   "cell_type": "code",
   "execution_count": 18,
   "metadata": {},
   "outputs": [
    {
     "data": {
      "text/plain": [
       "array([[9, 9, 9],\n",
       "       [9, 9, 9],\n",
       "       [9, 9, 9]])"
      ]
     },
     "execution_count": 18,
     "metadata": {},
     "output_type": "execute_result"
    }
   ],
   "source": [
    "f = np.full((3, 3), 9)\n",
    "f"
   ]
  },
  {
   "cell_type": "code",
   "execution_count": 19,
   "metadata": {},
   "outputs": [
    {
     "data": {
      "text/plain": [
       "array([[0.65121243, 0.44867335, 0.82390333],\n",
       "       [0.39980362, 0.26849313, 0.83489784],\n",
       "       [0.01835059, 0.37687713, 0.42368741]])"
      ]
     },
     "execution_count": 19,
     "metadata": {},
     "output_type": "execute_result"
    }
   ],
   "source": [
    "x = np.random.random((3, 3))\n",
    "x"
   ]
  },
  {
   "cell_type": "code",
   "execution_count": 20,
   "metadata": {},
   "outputs": [
    {
     "name": "stdout",
     "output_type": "stream",
     "text": [
      "[[ 1  2  3  4]\n",
      " [ 5  6  7  8]\n",
      " [ 9 10 11 12]]\n",
      "[[2 3]\n",
      " [6 7]]\n",
      "[[ 6  7  8]\n",
      " [10 11 12]]\n"
     ]
    }
   ],
   "source": [
    "# Matrix Slicing\n",
    "sample = np.array([[1, 2, 3, 4], [5, 6, 7, 8], [9, 10, 11, 12]])\n",
    "print(sample)\n",
    "slice_1 = sample[:2, 1:3]\n",
    "print(slice_1)\n",
    "slice_2 = sample[1:3, 1:]\n",
    "print(slice_2)"
   ]
  },
  {
   "cell_type": "code",
   "execution_count": 21,
   "metadata": {},
   "outputs": [
    {
     "name": "stdout",
     "output_type": "stream",
     "text": [
      "int32\n",
      "float64\n",
      "int64\n"
     ]
    }
   ],
   "source": [
    "# Data Types\n",
    "x1 = np.array([[1, 2], [3, 4]])\n",
    "print(x1.dtype)\n",
    "x2 = np.array([[1.0, 2.0], [3.0, 4.0]])\n",
    "print(x2.dtype)\n",
    "x3 = np.array([1.0, 2.0], dtype = np.int64)\n",
    "print(x3.dtype)"
   ]
  },
  {
   "cell_type": "code",
   "execution_count": 22,
   "metadata": {},
   "outputs": [],
   "source": [
    "# arithmetic operations on matrices: .add(), .subtract(), .divide(), .multiply()"
   ]
  },
  {
   "cell_type": "code",
   "execution_count": 23,
   "metadata": {},
   "outputs": [
    {
     "name": "stdout",
     "output_type": "stream",
     "text": [
      "78\n",
      "[15 18 21 24]\n",
      "[10 26 42]\n"
     ]
    }
   ],
   "source": [
    "sample = np.array([[1, 2, 3, 4], [5, 6, 7, 8], [9, 10, 11, 12]])\n",
    "print(np.sum(sample))\n",
    "print(np.sum(sample, axis = 0)) # axis = 0 are all scolumn\n",
    "print(np.sum(sample, axis = 1)) # axis = 1 are all rows"
   ]
  },
  {
   "cell_type": "code",
   "execution_count": 24,
   "metadata": {},
   "outputs": [
    {
     "name": "stdout",
     "output_type": "stream",
     "text": [
      "6.5\n",
      "[5. 6. 7. 8.]\n",
      "[10 26 42]\n"
     ]
    }
   ],
   "source": [
    "sample = np.array([[1, 2, 3, 4], [5, 6, 7, 8], [9, 10, 11, 12]])\n",
    "print(np.mean(sample))\n",
    "print(np.mean(sample, axis = 0)) # axis = 0 are all scolumn\n",
    "print(np.sum(sample, axis = 1)) # axis = 1 are all rows"
   ]
  },
  {
   "cell_type": "markdown",
   "metadata": {},
   "source": [
    "### SciPy"
   ]
  },
  {
   "cell_type": "code",
   "execution_count": 25,
   "metadata": {},
   "outputs": [],
   "source": [
    "from scipy import stats\n",
    "import numpy as np\n",
    "from matplotlib import pyplot as plt"
   ]
  },
  {
   "cell_type": "code",
   "execution_count": 26,
   "metadata": {},
   "outputs": [
    {
     "name": "stdout",
     "output_type": "stream",
     "text": [
      "[ 0.60112026  0.94688519 -0.36496683 -0.12630272  0.77005024  0.69831563\n",
      "  1.11179927  0.56645735  0.48302599 -0.6969439   0.95621047  1.33521018]\n"
     ]
    }
   ],
   "source": [
    "print(stats.norm.rvs(size = 12))"
   ]
  },
  {
   "cell_type": "code",
   "execution_count": 27,
   "metadata": {},
   "outputs": [],
   "source": [
    "from pylab import *"
   ]
  },
  {
   "cell_type": "code",
   "execution_count": 28,
   "metadata": {},
   "outputs": [
    {
     "data": {
      "image/png": "[encoded data removed]",
      "text/plain": [
       "<Figure size 432x288 with 1 Axes>"
      ]
     },
     "metadata": {
      "needs_background": "light"
     },
     "output_type": "display_data"
    }
   ],
   "source": [
    "# Create some test data\n",
    "dx = 0.001 # steps\n",
    "X = np.arange(-2, 2, dx)  \n",
    "Y = exp(-X**2)\n",
    "\n",
    "# Normalize the data to a proper pdf (probabilistic distribution function)\n",
    "Y /= (dx*Y).sum() # normalizing since it may go out of range\n",
    "\n",
    "# Compute the cdf (cumulative distribution function)\n",
    "CY = np.cumsum(Y*dx)\n",
    "\n",
    "# Plot both\n",
    "plot(X, Y)\n",
    "plot(X, CY, 'r--')\n",
    "plt.show()"
   ]
  },
  {
   "cell_type": "code",
   "execution_count": 29,
   "metadata": {},
   "outputs": [
    {
     "data": {
      "text/plain": [
       "array([ 2.26315283e+00, -9.70499965e-01,  4.74556126e-01, -6.32960005e-01,\n",
       "       -1.37067748e+00,  1.09437857e-01,  2.30960641e-01, -1.09347079e+00,\n",
       "        4.49254635e-01,  2.28595662e+00,  7.74359758e-01, -3.35193375e-01,\n",
       "       -1.42384572e+00, -1.94765787e-01,  4.05962353e-01,  7.96583548e-01,\n",
       "       -3.22184055e+00,  1.31791517e+00,  1.63382737e-01, -9.10902606e-01,\n",
       "       -1.39727592e+00,  7.92547992e-01, -1.88287687e-01, -4.66582725e-01,\n",
       "       -4.83270161e-01, -6.28068061e-01, -3.30027896e-01,  7.26537719e-01,\n",
       "       -1.28353639e+00, -1.24920656e+00,  1.01644996e+00,  1.50633147e+00,\n",
       "        1.49390730e+00,  3.24105619e-01, -2.60166996e+00, -2.00588514e+00,\n",
       "       -1.02175766e+00, -6.30966335e-01, -3.23777903e-01,  1.26975587e+00,\n",
       "        1.86401957e+00,  2.11648649e-01,  7.21290555e-01, -1.27020306e-01,\n",
       "        1.54484655e+00, -1.97414001e+00, -2.63160542e+00,  7.82676687e-01,\n",
       "        7.23816010e-01, -5.99664549e-01, -6.19788301e-01, -5.99473118e-02,\n",
       "       -1.91077642e-01,  2.15759786e+00,  2.22710583e-01, -1.58443614e+00,\n",
       "        9.27359708e-01, -1.00726460e+00,  1.84287515e-01, -9.78618408e-02,\n",
       "       -1.28949716e+00,  1.00141773e+00, -7.14345074e-01,  9.67498590e-01,\n",
       "        8.93039953e-01,  7.35392493e-01,  8.48300457e-01,  2.40389952e-01,\n",
       "        7.64436882e-01,  9.27360640e-02,  6.37957688e-01,  2.69645903e-01,\n",
       "       -8.47983404e-01, -6.69682895e-01,  6.18875421e-01, -4.69675147e-01,\n",
       "        2.50369193e-01,  5.86175187e-01,  1.91180706e+00,  6.75908906e-02,\n",
       "        4.21111000e-01, -1.74099785e-02,  2.27048077e-01,  7.16232250e-01,\n",
       "        2.31579044e+00,  1.73003112e-01,  9.75807495e-01,  6.82621191e-01,\n",
       "       -1.11779077e-01, -5.42646864e-01,  9.85872322e-01,  1.30806704e-01,\n",
       "       -2.23223347e-03,  1.90284725e-01,  2.31783071e+00,  6.94738596e-01,\n",
       "       -5.25196721e-01, -1.12717120e+00, -1.51026466e-01, -4.16755577e-02,\n",
       "       -7.24780435e-01, -5.86125879e-01, -3.75902269e+00,  1.20514833e+00,\n",
       "       -1.88016299e-01,  8.95393969e-01,  6.64747009e-01,  1.57487527e+00,\n",
       "       -2.72500913e-01, -5.87694041e-01,  1.13004494e-01,  6.27243141e-01,\n",
       "        3.70474469e-01,  1.10274508e+00,  2.25444127e+00, -1.63873413e+00,\n",
       "        4.15810679e-01, -4.45866409e-02,  1.32234415e+00, -1.51814773e+00,\n",
       "        1.98342645e+00, -1.43839027e+00, -1.80846698e+00, -1.63790229e+00,\n",
       "        6.92014136e-01, -9.64332695e-01, -5.99663350e-01, -1.50544464e-01,\n",
       "        6.52585615e-01,  4.63637912e-01,  7.73548606e-02, -9.11521387e-01,\n",
       "       -1.72669194e+00,  2.27941023e-01,  1.18242115e-01, -1.29787955e-01,\n",
       "       -1.46192343e+00, -7.55045571e-01, -7.08615698e-02, -1.53426810e+00,\n",
       "        5.38815878e-01, -7.58882888e-02, -5.76570537e-01, -5.89292181e-01,\n",
       "       -1.51843410e+00, -1.43235416e-01, -5.17354951e-01,  9.54665517e-01,\n",
       "        2.49447940e+00, -6.28596487e-02, -6.81483431e-01, -6.16997681e-01,\n",
       "       -2.03213387e+00,  2.39792880e+00,  3.37311607e+00, -2.54730613e-01,\n",
       "       -1.88271754e+00, -1.78524722e-01,  5.02511489e-01,  1.60518821e+00,\n",
       "       -5.62282603e-01,  6.14962205e-02, -1.80697738e+00, -1.32665959e+00,\n",
       "        1.31021709e+00,  1.32265393e+00, -2.40396948e+00, -8.96726890e-02,\n",
       "        4.62767695e-01,  9.23942062e-01, -4.98401328e-01, -1.12643765e+00,\n",
       "       -4.29552163e-01, -1.61288446e-01, -2.52040103e-01,  6.62742239e-01,\n",
       "        7.32216863e-01,  1.43851079e+00, -6.96464654e-01, -6.93623386e-01,\n",
       "        2.47953758e-01, -4.36332557e-01, -1.19046811e-01,  4.65561691e-01,\n",
       "       -7.45516552e-01, -4.01337882e-01, -1.89063116e+00, -1.02443994e+00,\n",
       "       -6.68499903e-01, -1.07498290e-01, -5.38244660e-01, -1.42477873e+00,\n",
       "        1.97898529e+00,  2.19463028e+00,  5.26823548e-01,  8.27813933e-01,\n",
       "        1.27776970e+00,  4.42933459e-01, -7.55357709e-01, -1.41740497e-01,\n",
       "       -1.42200059e-01, -4.55017815e-01,  8.78308429e-01,  4.19152386e-01,\n",
       "        2.02398402e+00,  6.47199465e-01,  8.30619407e-01,  8.73105841e-01,\n",
       "       -1.36455604e-01,  3.16866937e+00,  1.31453217e+00,  3.44893009e-01,\n",
       "       -6.40468611e-01,  8.32510617e-01,  4.23114823e-01, -2.04927608e-01,\n",
       "       -1.76646093e+00,  1.92105846e+00,  3.54411065e-01,  7.09035547e-01,\n",
       "       -9.43217987e-01, -2.16383211e-01, -3.88808410e-01,  8.26661623e-01,\n",
       "       -1.02063753e+00, -3.00287206e-01, -2.18160099e-01,  6.16188330e-01,\n",
       "        8.47604508e-02,  2.78287262e-01, -4.50531360e-01,  3.22763750e-01,\n",
       "        6.66298286e-01,  8.20417875e-01, -1.81121732e-01, -1.45806859e+00,\n",
       "        1.05992186e+00,  1.87485860e+00, -9.14454094e-01,  7.71213575e-01,\n",
       "        8.48516193e-01, -7.74391953e-01,  3.77068871e-01,  1.34191780e+00,\n",
       "       -1.22001498e+00,  7.71818407e-02,  1.28139378e+00, -1.30301697e-01,\n",
       "       -2.43631837e+00,  3.94824146e-01, -5.69310658e-01, -9.01242121e-01,\n",
       "        4.88321328e-01,  2.09096650e+00, -6.96813622e-03,  6.59170411e-01,\n",
       "       -1.92864849e+00, -8.27468810e-01, -4.50357990e-01,  9.90587937e-01,\n",
       "        1.69429971e+00, -4.62174056e-01,  8.65472721e-02,  2.06714939e-01,\n",
       "       -5.37044372e-01, -2.46446952e-01, -6.66523828e-01,  1.45674871e-01,\n",
       "       -1.77015266e-01, -1.74009109e+00, -5.35933064e-01,  5.07489714e-01,\n",
       "       -5.39345305e-01,  5.04496708e-01, -1.41338198e+00,  4.03605500e-01,\n",
       "        5.69197111e-01, -6.89588491e-01, -2.04369562e+00, -6.91501149e-01,\n",
       "       -2.92358407e-02, -1.66227226e-01,  3.82242864e-01,  1.00646518e+00,\n",
       "       -6.84225857e-01,  1.16883464e+00,  1.93678785e+00,  1.11400767e-01,\n",
       "       -2.19335964e-01,  2.27209851e-01,  1.96665562e-01,  5.45838578e-01,\n",
       "        4.79949077e-01,  1.29365415e+00,  2.14780886e-01,  1.25964250e+00,\n",
       "        3.06605342e-01, -1.57885029e-01, -2.02346418e-01, -1.42601068e-01,\n",
       "       -7.31864011e-01, -1.14066338e+00, -1.66095275e-01, -4.36484364e-01,\n",
       "        5.41891029e-01,  4.15378534e-01, -1.26434027e+00,  7.62569863e-01,\n",
       "       -2.70196915e+00, -1.59313128e-01, -6.17427800e-02, -1.29678588e+00,\n",
       "       -1.01964389e-01, -1.20066972e+00, -1.65059797e+00,  2.21934201e-01,\n",
       "        1.30860892e+00,  2.84790884e+00, -7.35872081e-01, -2.17241725e+00,\n",
       "       -4.28795583e-01,  1.13606695e-01, -6.18042907e-01, -1.81893229e+00,\n",
       "        1.41125595e+00,  2.82140015e-01,  1.34140887e+00, -1.74628935e+00,\n",
       "        8.38032705e-01,  9.76486686e-01, -6.52529268e-01, -2.48051465e+00,\n",
       "        2.06391462e+00, -2.45237329e+00,  3.20606963e-01,  6.96576378e-01,\n",
       "       -8.18100629e-01, -6.14851315e-01,  1.58100959e+00, -7.88669869e-02,\n",
       "        6.98527850e-01,  2.53770694e-01, -4.73077064e-01, -3.03368836e-01,\n",
       "       -3.39029072e-01, -3.49699373e-01,  5.01843018e-02,  1.33535371e+00,\n",
       "        7.55357655e-01, -5.34789125e-03, -1.11489900e+00, -7.71868484e-01,\n",
       "       -2.80190525e-01, -1.44621636e+00,  9.83203501e-01, -6.31784565e-02,\n",
       "       -1.34683647e+00,  2.17651817e+00,  2.28833495e+00, -3.02326393e-01,\n",
       "       -5.24600275e-02, -2.28880485e+00, -7.44813440e-01, -7.66101486e-01,\n",
       "        9.14168099e-01,  1.13944036e+00, -7.16586190e-01,  8.94509603e-01,\n",
       "       -1.47943118e+00,  3.80597605e-01,  6.66005131e-01,  3.64912758e-01,\n",
       "       -1.72669741e+00,  1.54117696e+00, -3.27485154e+00, -1.61709919e+00,\n",
       "        1.09439107e+00,  3.33729377e-01, -5.63754101e-01, -3.08646826e-01,\n",
       "       -5.79693665e-01, -9.83999088e-01,  2.88745210e-01, -8.06768750e-01,\n",
       "       -4.09717646e-01,  6.69417476e-01,  4.68188611e-01,  2.05986195e-01,\n",
       "       -1.10035156e+00, -8.44146917e-01, -3.88173092e-01, -7.57343846e-01,\n",
       "       -5.08447025e-01,  1.42269360e+00, -4.85368320e-01, -1.04278894e+00,\n",
       "       -8.98207744e-01, -4.45292104e-03, -6.46747788e-01,  1.89721953e+00,\n",
       "       -1.14240144e-01, -6.33316346e-01, -4.94133275e-01,  2.22403960e+00,\n",
       "       -6.05391991e-01,  6.97628324e-01, -3.49630603e-02,  6.37241865e-04,\n",
       "        9.96556249e-01, -1.03293347e+00,  3.52065408e-01, -1.24582618e+00,\n",
       "       -1.00555608e+00, -1.57271691e+00,  7.78507128e-02, -2.30954282e-01,\n",
       "       -4.80186326e-01, -1.41490616e+00, -1.57918613e+00, -2.99304523e+00,\n",
       "        2.91688184e-01,  4.79847799e-01,  1.76016042e+00, -1.90728439e+00,\n",
       "        9.44359765e-01,  3.69767163e-01, -9.60621652e-02,  1.24822073e+00,\n",
       "       -4.24145369e-01, -3.27704877e-01,  1.90275052e+00, -5.60593165e-01,\n",
       "        6.44973615e-01,  1.22654956e-02, -4.53546051e-01,  2.81091109e-01,\n",
       "        1.27901687e+00,  3.10173237e-01, -5.63691433e-01, -7.38662075e-01,\n",
       "        4.45541560e-01,  3.41976785e-01,  1.23873295e-01,  1.16574416e+00,\n",
       "       -9.63646938e-01,  9.93538415e-01, -1.32026191e-01, -1.59821263e+00,\n",
       "       -2.82894043e-01, -1.21015026e+00,  2.43170673e+00,  1.17091065e+00,\n",
       "        1.91908256e+00,  6.85375471e-01, -5.03946971e-01,  1.08562067e+00,\n",
       "       -4.23047603e-01, -1.84328681e+00, -3.35877254e-01,  1.84310346e+00,\n",
       "       -2.17929432e+00,  1.05304067e+00, -4.54634389e-01,  2.42337690e+00,\n",
       "       -3.64373393e-01, -8.90203904e-01,  1.78026521e-01,  3.32926397e-01,\n",
       "       -1.25028373e+00,  3.40095004e-01,  6.00789896e-02,  8.92164163e-01,\n",
       "        6.02296688e-01, -4.61534574e-01,  1.23516477e-01,  3.62481908e-01,\n",
       "       -6.64778615e-01,  9.58472020e-01,  3.84568888e-01, -6.74796205e-01,\n",
       "       -7.49977380e-01,  8.33133581e-01,  1.84935559e-01, -2.53511379e-01,\n",
       "       -1.78870595e+00,  5.56301096e-01, -1.27300791e+00,  1.05337070e+00,\n",
       "        1.46237231e+00,  5.46208569e-01, -1.23568119e+00, -1.23348704e+00,\n",
       "        1.77999499e-01, -1.77592536e-02,  9.07463253e-01,  1.63549305e+00,\n",
       "       -2.89700361e-01,  5.56630246e-01,  8.38837699e-01,  3.22846381e-01,\n",
       "        2.99999253e-01, -2.36051049e+00, -3.42933470e+00,  1.05860091e+00,\n",
       "        1.71494703e+00,  1.77533749e+00, -1.38485555e+00, -1.93807968e-01,\n",
       "       -1.50795494e-01, -2.98562971e-01,  7.50261191e-01, -1.05130645e-01,\n",
       "        2.83881920e-01, -6.22051430e-01,  6.53349620e-01,  2.99705718e+00,\n",
       "       -8.44943243e-01, -1.45004884e+00,  4.84222878e-01, -6.80781240e-01,\n",
       "        1.44621227e+00,  8.93650232e-01, -1.98786557e+00,  3.87679940e-02,\n",
       "       -4.73258435e-01, -1.11855945e+00, -8.54290466e-01,  3.73356853e-01,\n",
       "       -1.55299651e+00,  5.40083351e-01,  3.67746491e-01, -4.30173689e-01,\n",
       "       -4.87395341e-02,  1.14131520e+00,  4.87397807e-02, -5.01967572e-01,\n",
       "        4.03293424e-01, -5.75871751e-01,  3.14497360e-01, -1.21824367e+00,\n",
       "       -6.15787770e-01, -1.55804742e-01,  3.26331636e-01, -3.78321861e-01,\n",
       "       -7.93284248e-01,  1.97359235e+00, -2.91991200e-01, -9.65563905e-01,\n",
       "       -1.24402415e+00, -6.05679916e-01, -1.05698478e+00, -3.87739632e-01,\n",
       "       -1.79641687e-01, -1.57722150e-01, -4.92431366e-01, -6.14842222e-01,\n",
       "       -3.15347829e+00,  9.86089339e-01, -2.53128143e+00,  4.71580915e-01,\n",
       "       -1.79341802e+00,  7.75265940e-01, -6.61524464e-03, -5.13211439e-01,\n",
       "       -6.10322307e-01,  3.58482200e-01, -1.18672264e+00,  1.54272039e+00,\n",
       "        3.24657998e-01,  8.46241211e-01, -1.81717329e-01,  5.20390452e-04,\n",
       "       -1.24702779e+00, -5.71826650e-02,  1.19115828e+00,  9.82472526e-01,\n",
       "        1.28638950e+00,  2.48643627e+00, -4.24770665e-01,  4.06285443e-01,\n",
       "        1.91544406e-01, -8.17656452e-01, -1.67719033e+00, -1.17816545e+00,\n",
       "        9.10597813e-01, -1.55771840e-02,  9.65621606e-01, -1.13960382e+00,\n",
       "        1.20151943e+00,  5.65186191e-01, -2.42624607e+00,  1.59882425e-01,\n",
       "        1.59548345e-01,  1.88320509e-01,  1.44441142e+00, -3.21674999e+00,\n",
       "       -1.54908916e+00,  1.38904679e+00,  1.66983952e+00, -1.13510029e-01,\n",
       "       -4.39910109e-01,  1.00894847e+00, -4.71081963e-01, -5.20161514e-01,\n",
       "       -9.41202031e-01,  4.09715259e-01,  1.22568329e+00, -4.57434438e-01,\n",
       "        1.31663756e+00, -1.22365207e+00,  2.16436833e-01,  7.04007063e-01,\n",
       "       -2.73579970e-02,  9.79557282e-01, -6.65333254e-02, -1.81130148e+00,\n",
       "        3.48708837e-01,  6.50151762e-01, -1.88077464e-01, -2.16259022e-02,\n",
       "        4.50011458e-01,  6.08528124e-01, -1.40627578e-02, -2.16252778e+00,\n",
       "       -3.30698129e-02, -1.52109048e+00, -1.11216467e+00,  1.27238475e+00,\n",
       "        1.18643207e+00,  1.22146983e+00,  2.19234166e-01,  7.67904146e-01,\n",
       "       -1.43339359e-01, -1.22082615e+00, -6.65239175e-01,  1.07339704e+00,\n",
       "        4.81754976e-01, -5.10785807e-01,  1.35338581e+00, -1.64325011e-01,\n",
       "        2.70519946e+00, -1.99824014e-01,  1.41724927e+00, -2.05803405e+00,\n",
       "        6.06512713e-01,  9.61517092e-01, -3.89274539e-03,  1.10132431e+00,\n",
       "        8.27491152e-01,  9.12951164e-01, -9.12945486e-02, -7.39101588e-01,\n",
       "       -6.84531186e-02,  4.86055956e-01,  3.76038725e-01,  2.22419450e-01,\n",
       "       -2.40447887e-01, -2.69225139e+00,  1.31151468e+00,  1.71483056e+00,\n",
       "        5.24533842e-01,  2.52770833e-01, -1.21727292e+00,  4.15048426e-01,\n",
       "       -1.74444232e+00,  1.61745803e+00, -3.71092690e-01,  1.28683401e+00,\n",
       "       -6.37974019e-01, -1.19399054e+00,  1.05675986e+00,  2.03684206e+00,\n",
       "        5.44027914e-01, -2.44463259e-01,  5.49028900e-01,  9.23002583e-01,\n",
       "       -9.30236473e-01,  9.67685918e-01,  9.40959025e-01,  4.81504398e-01,\n",
       "       -1.14088744e+00,  4.18335062e-01,  2.98638141e+00, -1.06743340e+00,\n",
       "       -9.37454035e-01, -1.29904986e+00,  2.91103241e-01, -1.10321800e+00,\n",
       "       -5.58779936e-01, -1.03206321e+00, -1.05936153e+00,  5.85898222e-01,\n",
       "       -7.08295753e-02, -1.18475646e+00,  5.25969068e-01,  4.75794917e-01,\n",
       "        5.58291119e-01, -1.93245393e+00,  1.20910563e+00, -7.85084888e-01,\n",
       "       -1.45676538e+00,  5.60119145e-01,  3.93309723e-01, -1.10576425e-01,\n",
       "       -8.80943848e-01,  5.39253808e-01, -5.04541131e+00, -4.97612865e-03,\n",
       "       -1.03861412e+00, -3.32510551e-01, -9.08782810e-01,  5.48938653e-01,\n",
       "        1.97222894e-01,  1.92068071e+00,  1.49047684e-01,  2.04751539e+00,\n",
       "        1.45229213e-01,  2.14756964e-01, -1.08163116e+00,  3.80320687e-01,\n",
       "       -1.20309034e+00,  1.25378970e+00, -3.13529412e-01,  3.16920782e-01,\n",
       "        3.69003021e-01,  4.84782776e-01,  1.96870670e+00, -1.02922445e+00,\n",
       "        2.83798309e-01, -4.74250542e-01, -2.94690658e-01,  1.13929883e+00,\n",
       "        1.90529761e-02, -1.92939417e+00, -1.25295515e+00,  5.12073486e-02,\n",
       "        4.55008007e-01, -2.79282877e-01,  1.29411023e+00, -1.64025312e+00,\n",
       "        2.88907368e+00, -3.98758003e-01, -5.22378208e-01,  8.95803177e-01,\n",
       "       -5.12642897e-02,  6.81071133e-01,  1.82876122e-01,  7.12379574e-01,\n",
       "       -6.62873622e-01, -1.48703335e+00,  8.10248200e-01,  2.38230070e+00,\n",
       "        1.11949780e-01,  2.57367843e-01, -3.25799870e-01, -1.21926183e+00,\n",
       "        1.22765755e+00, -6.38063038e-01, -1.34234389e-01, -4.00917655e-01,\n",
       "        6.17027282e-02, -3.80308525e-01,  6.54520970e-02,  3.40095135e+00,\n",
       "       -8.69859002e-01,  1.08490451e+00,  5.61562649e-01, -1.33416479e+00,\n",
       "        3.43075550e-01, -9.38309986e-01, -1.36174915e-01,  7.13656098e-01,\n",
       "        1.67044138e+00, -8.02536673e-01, -9.11150039e-01, -3.16553160e-01,\n",
       "        6.94083455e-01,  6.51985981e-01, -2.47363306e+00,  1.19212419e-01,\n",
       "        1.29415110e-01,  3.22851337e-01, -9.65682717e-01,  1.45934631e+00,\n",
       "       -1.26206553e+00,  1.02229578e+00, -8.44079382e-01,  2.50593085e-01,\n",
       "       -1.78598372e+00,  1.94872411e-02, -1.00324017e+00, -1.92669108e+00,\n",
       "        8.60324164e-01, -5.90372700e-01,  1.93239513e+00,  2.10161063e-01,\n",
       "       -6.92715534e-02,  3.08274950e-01, -1.09614099e+00, -1.24269175e+00,\n",
       "        6.30829449e-01,  1.58313927e-01,  9.62076529e-01,  2.19478720e-01,\n",
       "       -1.25639369e-01,  1.00745323e+00,  1.12784574e+00, -1.26966759e-01,\n",
       "       -1.08978302e-01, -1.02309596e+00, -1.36953357e-01, -1.00302718e+00,\n",
       "        1.37668548e+00,  9.24178006e-01, -6.22208010e-01,  2.38165852e-01,\n",
       "        2.13154248e-01, -3.11273720e+00, -1.17053711e-01,  3.70615249e-01,\n",
       "        3.12020577e+00,  1.13319952e+00, -1.45286854e+00, -1.41138903e+00,\n",
       "       -5.27976098e-01,  1.29047233e+00,  1.55937179e+00,  7.02585947e-01,\n",
       "        9.41411728e-03, -1.55117411e+00, -7.10950137e-01, -9.48901368e-01,\n",
       "        4.10349846e-01, -6.59920504e-01, -9.50431496e-02,  1.58727066e-01,\n",
       "        6.70802746e-01,  8.46536512e-01, -2.19284172e-01,  9.01708327e-02,\n",
       "       -3.98949661e-01,  2.40906884e-01, -1.32235350e-01, -7.62602057e-01,\n",
       "        1.64487024e-01,  1.01985531e+00,  1.88367416e+00, -2.08014717e-01,\n",
       "       -6.50500637e-01, -1.64370244e+00,  8.48000213e-01,  4.02824058e-01,\n",
       "        1.52868519e-01, -1.54176139e-01,  7.59822266e-01, -5.33491029e-01,\n",
       "       -3.92166720e-01,  8.32405471e-01, -1.01602693e+00, -3.42398606e-01,\n",
       "        1.01843329e+00, -3.18962545e-01,  5.55103310e-01,  9.16301574e-01,\n",
       "        1.44779939e-01, -1.24734596e+00,  4.10538810e-01,  2.79304098e-01,\n",
       "        1.06091910e+00,  2.59379742e+00, -2.93638154e+00,  4.39709439e-01,\n",
       "       -8.90467589e-01,  9.46859512e-02, -5.60141997e-01, -1.30405573e+00,\n",
       "        2.76851606e-01, -4.01035575e-01, -3.49579709e-01,  5.09536292e-01,\n",
       "        6.07907006e-01,  9.02549874e-02, -9.56259198e-02, -5.48885316e-02,\n",
       "        8.17406167e-01, -6.03495206e-01, -1.23843203e+00,  8.47866569e-01,\n",
       "       -1.48210883e+00,  6.17658109e-01, -1.76308915e-01, -7.85727153e-01,\n",
       "       -8.31697916e-01,  4.43830876e-01,  1.31614603e+00, -1.44259923e-01,\n",
       "        2.86398155e+00, -2.54876134e+00, -2.97684782e-01,  6.86773831e-02,\n",
       "        1.63007427e+00, -1.25944396e+00, -6.87446212e-01, -6.75470477e-01,\n",
       "       -1.62609993e+00, -7.10928720e-01,  5.76543572e-01,  7.37166834e-01,\n",
       "        2.78887699e-01,  2.98136621e-01, -1.62391971e+00, -5.83493302e-01,\n",
       "       -7.96154556e-01, -9.43539217e-01,  2.38815727e-01, -4.21900962e-01,\n",
       "        1.31879733e-01,  7.78670140e-01,  8.28581361e-01,  7.43318021e-01,\n",
       "       -4.76186006e-01, -3.22509743e-01,  1.11716002e+00, -7.13062478e-01,\n",
       "       -3.57540160e-01,  1.11824438e-01, -1.10067090e+00, -1.14689974e+00,\n",
       "        4.09586197e-01,  9.34426353e-02, -1.48315094e+00, -4.64477496e-01,\n",
       "       -7.28050361e-01,  1.13853641e-01, -3.18727381e-01,  1.06046634e+00,\n",
       "        5.16934830e-01,  1.23353281e+00, -3.86340942e-01,  9.79055753e-01,\n",
       "       -5.86752448e-01,  1.82583901e+00,  3.58186223e+00, -3.86280372e+00,\n",
       "        7.74666633e-01,  3.20249522e-01, -4.64416462e-01, -5.06762794e-01,\n",
       "       -1.41804250e+00,  1.35234988e+00, -2.43626016e+00, -1.02657732e+00,\n",
       "       -6.53543346e-01,  1.54059048e-01,  1.39883464e+00,  1.07579519e-01,\n",
       "       -8.09515816e-01,  6.86808679e-01,  6.19494620e-02,  3.97409065e+00,\n",
       "       -3.32051466e-01, -1.11768896e+00, -3.06158473e-01,  1.37591490e+00,\n",
       "       -8.00743916e-02, -2.26533850e-02, -1.27388216e-01, -1.78324494e+00,\n",
       "        4.57631239e-02, -3.68166945e-01,  9.84888998e-02, -2.27577623e-01,\n",
       "       -6.91626301e-01,  5.76554264e-01,  2.00549965e+00, -6.53475996e-01,\n",
       "        9.70991153e-02,  3.59020136e-01,  3.22340364e-01, -1.54138396e+00,\n",
       "        1.77397905e+00,  2.08885748e-01, -6.35784198e-01, -5.88945127e-01,\n",
       "       -7.44582867e-01,  5.88441038e-01,  1.26787975e+00,  2.22917041e+00,\n",
       "       -1.26525061e+00, -1.96566944e+00,  1.73934858e+00, -2.89895084e-01,\n",
       "       -3.27329528e-01, -3.50411837e-01, -2.63266957e+00,  4.82734652e-01,\n",
       "        1.23094450e+00,  1.47440236e+00,  2.98690617e-01,  3.66919050e-01])"
      ]
     },
     "execution_count": 29,
     "metadata": {},
     "output_type": "execute_result"
    }
   ],
   "source": [
    "# Descriptve statistics\n",
    "np.random.seed(30000)\n",
    "# Generate 1000 students' T continuous random variables\n",
    "x = stats.t.rvs(10, size=1000)\n",
    "x"
   ]
  },
  {
   "cell_type": "code",
   "execution_count": 30,
   "metadata": {},
   "outputs": [
    {
     "name": "stdout",
     "output_type": "stream",
     "text": [
      "-5.045411312590905\n",
      "3.9740906480493288\n",
      "-0.010254803543738466\n",
      "1.2179510982103403\n"
     ]
    },
    {
     "data": {
      "text/plain": [
       "DescribeResult(nobs=1000, minmax=(-5.045411312590905, 3.9740906480493288), mean=-0.010254803543738466, variance=1.219170268478819, skewness=-0.10137263636654932, kurtosis=0.9877694566382518)"
      ]
     },
     "execution_count": 30,
     "metadata": {},
     "output_type": "execute_result"
    }
   ],
   "source": [
    "print(x.min())           # equivalent to np.min(x)\n",
    "print(x.max())           # equivalent to np.max(x)\n",
    "print(x.mean())          # equivalent to np.mean(x)\n",
    "print(x.var())           # equivalent to np.var(x)\n",
    "stats.describe(x)"
   ]
  },
  {
   "cell_type": "markdown",
   "metadata": {},
   "source": [
    "### Matplotlib"
   ]
  },
  {
   "cell_type": "code",
   "execution_count": 31,
   "metadata": {},
   "outputs": [],
   "source": [
    "import numpy as np\n",
    "import matplotlib.pyplot as plt"
   ]
  },
  {
   "cell_type": "code",
   "execution_count": 32,
   "metadata": {},
   "outputs": [
    {
     "data": {
      "image/png": "[encoded data removed]",
      "text/plain": [
       "<Figure size 432x288 with 1 Axes>"
      ]
     },
     "metadata": {
      "needs_background": "light"
     },
     "output_type": "display_data"
    }
   ],
   "source": [
    "X = np.arange(0, 3*np.pi, 0.1)\n",
    "Y_sin = np.sin(X)\n",
    "Y_cos = np.cos(X)\n",
    "plt.plot(X, Y_sin)\n",
    "plt.plot(X, Y_cos)\n",
    "plt.xlabel('x axis label')\n",
    "plt.ylabel('y axis label')\n",
    "plt.legend(['Sine', 'Cosine'])\n",
    "plt.show()"
   ]
  },
  {
   "cell_type": "code",
   "execution_count": 33,
   "metadata": {},
   "outputs": [
    {
     "data": {
      "image/png": "[encoded data removed]",
      "text/plain": [
       "<Figure size 432x288 with 2 Axes>"
      ]
     },
     "metadata": {
      "needs_background": "light"
     },
     "output_type": "display_data"
    }
   ],
   "source": [
    "X = np.arange(0, 3*np.pi, 0.1)\n",
    "Y_sin = np.sin(X)\n",
    "Y_cos = np.cos(X)\n",
    "plt.plot(X, Y_sin)\n",
    "\n",
    "plt.subplot(2, 1, 1) # (rows, column, position)\n",
    "plt.plot(X, Y_sin)\n",
    "plt.title('Sine')\n",
    "\n",
    "plt.subplot(2, 1, 2)\n",
    "plt.plot(X, Y_cos)\n",
    "plt.title('Cosine')\n",
    "plt.show()"
   ]
  }
 ],
 "metadata": {
  "kernelspec": {
   "display_name": "Python [stats]",
   "language": "python",
   "name": "stats"
  },
  "language_info": {
   "codemirror_mode": {
    "name": "ipython",
    "version": 3
   },
   "file_extension": ".py",
   "mimetype": "text/x-python",
   "name": "python",
   "nbconvert_exporter": "python",
   "pygments_lexer": "ipython3",
   "version": "3.5.6"
  }
 },
 "nbformat": 4,
 "nbformat_minor": 4
}
