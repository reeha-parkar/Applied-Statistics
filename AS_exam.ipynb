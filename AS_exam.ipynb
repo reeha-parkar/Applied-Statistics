{
  "nbformat": 4,
  "nbformat_minor": 0,
  "metadata": {
    "colab": {
      "name": "AS_exam.ipynb",
      "provenance": [],
      "collapsed_sections": [],
      "authorship_tag": "ABX9TyNijYYFwxNDaWgkLZv/fF8S",
      "include_colab_link": true
    },
    "kernelspec": {
      "name": "python3",
      "display_name": "Python 3"
    }
  },
  "cells": [
    {
      "cell_type": "markdown",
      "metadata": {
        "id": "view-in-github",
        "colab_type": "text"
      },
      "source": [
        "<a href=\"https://colab.research.google.com/github/reeha-parkar/Applied-Statistics/blob/master/AS_exam.ipynb\" target=\"_parent\"><img src=\"https://colab.research.google.com/assets/colab-badge.svg\" alt=\"Open In Colab\"/></a>"
      ]
    },
    {
      "cell_type": "code",
      "metadata": {
        "id": "IB7YQVfFCBPz"
      },
      "source": [
        "import numpy as np\r\n",
        "import pandas as pd\r\n",
        "from matplotlib import pyplot as plt\r\n",
        "import seaborn as sns\r\n",
        "import time\r\n",
        "import scipy.stats"
      ],
      "execution_count": null,
      "outputs": []
    },
    {
      "cell_type": "code",
      "metadata": {
        "id": "BOvLxKCKGJ2r"
      },
      "source": [
        "data = pd.read_csv('bank_marketing.csv')"
      ],
      "execution_count": null,
      "outputs": []
    },
    {
      "cell_type": "code",
      "metadata": {
        "colab": {
          "base_uri": "https://localhost:8080/",
          "height": 241
        },
        "id": "NPqdWE1PHCPr",
        "outputId": "d4625b71-b8d6-40ad-fd62-037c0824b41f"
      },
      "source": [
        "data.head()"
      ],
      "execution_count": null,
      "outputs": [
        {
          "output_type": "execute_result",
          "data": {
            "text/html": [
              "<div>\n",
              "<style scoped>\n",
              "    .dataframe tbody tr th:only-of-type {\n",
              "        vertical-align: middle;\n",
              "    }\n",
              "\n",
              "    .dataframe tbody tr th {\n",
              "        vertical-align: top;\n",
              "    }\n",
              "\n",
              "    .dataframe thead th {\n",
              "        text-align: right;\n",
              "    }\n",
              "</style>\n",
              "<table border=\"1\" class=\"dataframe\">\n",
              "  <thead>\n",
              "    <tr style=\"text-align: right;\">\n",
              "      <th></th>\n",
              "      <th>Unnamed: 0</th>\n",
              "      <th>age</th>\n",
              "      <th>job</th>\n",
              "      <th>marital</th>\n",
              "      <th>education</th>\n",
              "      <th>default</th>\n",
              "      <th>balance</th>\n",
              "      <th>housing</th>\n",
              "      <th>loan</th>\n",
              "      <th>contact</th>\n",
              "      <th>day</th>\n",
              "      <th>month</th>\n",
              "      <th>duration</th>\n",
              "      <th>campaign</th>\n",
              "      <th>pdays</th>\n",
              "      <th>previous</th>\n",
              "      <th>poutcome</th>\n",
              "      <th>deposit</th>\n",
              "    </tr>\n",
              "  </thead>\n",
              "  <tbody>\n",
              "    <tr>\n",
              "      <th>0</th>\n",
              "      <td>0</td>\n",
              "      <td>41</td>\n",
              "      <td>services</td>\n",
              "      <td>married</td>\n",
              "      <td>unknown</td>\n",
              "      <td>no</td>\n",
              "      <td>88</td>\n",
              "      <td>yes</td>\n",
              "      <td>no</td>\n",
              "      <td>cellular</td>\n",
              "      <td>11</td>\n",
              "      <td>may</td>\n",
              "      <td>105</td>\n",
              "      <td>1</td>\n",
              "      <td>336</td>\n",
              "      <td>2</td>\n",
              "      <td>failure</td>\n",
              "      <td>no</td>\n",
              "    </tr>\n",
              "    <tr>\n",
              "      <th>1</th>\n",
              "      <td>1</td>\n",
              "      <td>56</td>\n",
              "      <td>technician</td>\n",
              "      <td>married</td>\n",
              "      <td>secondary</td>\n",
              "      <td>no</td>\n",
              "      <td>1938</td>\n",
              "      <td>no</td>\n",
              "      <td>yes</td>\n",
              "      <td>cellular</td>\n",
              "      <td>26</td>\n",
              "      <td>feb</td>\n",
              "      <td>229</td>\n",
              "      <td>1</td>\n",
              "      <td>192</td>\n",
              "      <td>4</td>\n",
              "      <td>success</td>\n",
              "      <td>yes</td>\n",
              "    </tr>\n",
              "    <tr>\n",
              "      <th>2</th>\n",
              "      <td>2</td>\n",
              "      <td>30</td>\n",
              "      <td>services</td>\n",
              "      <td>single</td>\n",
              "      <td>secondary</td>\n",
              "      <td>no</td>\n",
              "      <td>245</td>\n",
              "      <td>no</td>\n",
              "      <td>yes</td>\n",
              "      <td>cellular</td>\n",
              "      <td>8</td>\n",
              "      <td>jul</td>\n",
              "      <td>187</td>\n",
              "      <td>2</td>\n",
              "      <td>-1</td>\n",
              "      <td>0</td>\n",
              "      <td>unknown</td>\n",
              "      <td>no</td>\n",
              "    </tr>\n",
              "    <tr>\n",
              "      <th>3</th>\n",
              "      <td>3</td>\n",
              "      <td>34</td>\n",
              "      <td>management</td>\n",
              "      <td>single</td>\n",
              "      <td>tertiary</td>\n",
              "      <td>no</td>\n",
              "      <td>1396</td>\n",
              "      <td>yes</td>\n",
              "      <td>no</td>\n",
              "      <td>cellular</td>\n",
              "      <td>17</td>\n",
              "      <td>jul</td>\n",
              "      <td>630</td>\n",
              "      <td>1</td>\n",
              "      <td>-1</td>\n",
              "      <td>0</td>\n",
              "      <td>unknown</td>\n",
              "      <td>no</td>\n",
              "    </tr>\n",
              "    <tr>\n",
              "      <th>4</th>\n",
              "      <td>4</td>\n",
              "      <td>29</td>\n",
              "      <td>technician</td>\n",
              "      <td>single</td>\n",
              "      <td>secondary</td>\n",
              "      <td>no</td>\n",
              "      <td>-13</td>\n",
              "      <td>yes</td>\n",
              "      <td>no</td>\n",
              "      <td>cellular</td>\n",
              "      <td>14</td>\n",
              "      <td>may</td>\n",
              "      <td>512</td>\n",
              "      <td>3</td>\n",
              "      <td>-1</td>\n",
              "      <td>0</td>\n",
              "      <td>unknown</td>\n",
              "      <td>no</td>\n",
              "    </tr>\n",
              "  </tbody>\n",
              "</table>\n",
              "</div>"
            ],
            "text/plain": [
              "   Unnamed: 0  age         job  marital  ... pdays previous  poutcome deposit\n",
              "0           0   41    services  married  ...   336        2   failure      no\n",
              "1           1   56  technician  married  ...   192        4   success     yes\n",
              "2           2   30    services   single  ...    -1        0   unknown      no\n",
              "3           3   34  management   single  ...    -1        0   unknown      no\n",
              "4           4   29  technician   single  ...    -1        0   unknown      no\n",
              "\n",
              "[5 rows x 18 columns]"
            ]
          },
          "metadata": {
            "tags": []
          },
          "execution_count": 3
        }
      ]
    },
    {
      "cell_type": "code",
      "metadata": {
        "colab": {
          "base_uri": "https://localhost:8080/",
          "height": 383
        },
        "id": "yLrj1wNfGrkt",
        "outputId": "daa90d17-3e58-4fe8-e0cc-a56e45d40e53"
      },
      "source": [
        "# Generate a scatter plot of “age” and “balance” and choose which of the interpretation given below is correct?\r\n",
        "sns.lmplot(x='age', y='balance', data=data, fit_reg=False)\r\n",
        "plt.show()"
      ],
      "execution_count": null,
      "outputs": [
        {
          "output_type": "display_data",
          "data": {
            "image/png": "[encoded data removed]",
            "text/plain": [
              "<Figure size 360x360 with 1 Axes>"
            ]
          },
          "metadata": {
            "tags": [],
            "needs_background": "light"
          }
        }
      ]
    },
    {
      "cell_type": "code",
      "metadata": {
        "colab": {
          "base_uri": "https://localhost:8080/"
        },
        "id": "Kx6CVFh2HHjv",
        "outputId": "a2cc981a-62b1-485f-d17b-1c6d15bebe92"
      },
      "source": [
        "# What is the percentage split of the categories in the column “deposit”?\r\n",
        "y = (data['deposit'].value_counts()['yes'])\r\n",
        "n = (data['deposit'].value_counts()['no'])\r\n",
        "yes = (y/(y+n))*100\r\n",
        "print(yes)\r\n",
        "print(100-yes)"
      ],
      "execution_count": null,
      "outputs": [
        {
          "output_type": "stream",
          "text": [
            "46.98082780863644\n",
            "53.01917219136356\n"
          ],
          "name": "stdout"
        }
      ]
    },
    {
      "cell_type": "code",
      "metadata": {
        "colab": {
          "base_uri": "https://localhost:8080/"
        },
        "id": "XIiouErLHi4y",
        "outputId": "de99dd6a-6b1b-4e9d-85a9-cd41552ca895"
      },
      "source": [
        "# How many parameters have datatype as float64\r\n",
        "data.dtypes"
      ],
      "execution_count": null,
      "outputs": [
        {
          "output_type": "execute_result",
          "data": {
            "text/plain": [
              "Unnamed: 0     int64\n",
              "age            int64\n",
              "job           object\n",
              "marital       object\n",
              "education     object\n",
              "default       object\n",
              "balance        int64\n",
              "housing       object\n",
              "loan          object\n",
              "contact       object\n",
              "day            int64\n",
              "month         object\n",
              "duration       int64\n",
              "campaign       int64\n",
              "pdays          int64\n",
              "previous       int64\n",
              "poutcome      object\n",
              "deposit       object\n",
              "dtype: object"
            ]
          },
          "metadata": {
            "tags": []
          },
          "execution_count": 5
        }
      ]
    },
    {
      "cell_type": "code",
      "metadata": {
        "colab": {
          "base_uri": "https://localhost:8080/"
        },
        "id": "PI3x-rdJH6p2",
        "outputId": "8df79303-800a-45ca-9fce-b0a23c775e36"
      },
      "source": [
        "# What is the count of unique education levels in the data and find out how many clients have completed tertiary education?\r\n",
        "unique_values = list(pd.unique(data['education'])) \r\n",
        "print(unique_values)\r\n",
        "print(len(unique_values))\r\n",
        "tertiary = data['education'].value_counts()['tertiary']\r\n",
        "print(tertiary)"
      ],
      "execution_count": null,
      "outputs": [
        {
          "output_type": "stream",
          "text": [
            "['unknown', 'secondary', 'tertiary', 'primary']\n",
            "4\n",
            "1871\n"
          ],
          "name": "stdout"
        }
      ]
    },
    {
      "cell_type": "code",
      "metadata": {
        "colab": {
          "base_uri": "https://localhost:8080/"
        },
        "id": "52qS80sgKWFu",
        "outputId": "bb47afaa-ff17-4e59-8dd9-ce7308717b18"
      },
      "source": [
        "# How many  clients having secondary education  & have not subscribed to deposit?\r\n",
        "data.pivot_table(index=['education','deposit'], aggfunc='size')"
      ],
      "execution_count": null,
      "outputs": [
        {
          "output_type": "execute_result",
          "data": {
            "text/plain": [
              "education  deposit\n",
              "primary    no          444\n",
              "           yes         302\n",
              "secondary  no         1535\n",
              "           yes        1184\n",
              "tertiary   no          852\n",
              "           yes        1019\n",
              "unknown    no          128\n",
              "           yes         117\n",
              "dtype: int64"
            ]
          },
          "metadata": {
            "tags": []
          },
          "execution_count": 82
        }
      ]
    },
    {
      "cell_type": "code",
      "metadata": {
        "colab": {
          "base_uri": "https://localhost:8080/"
        },
        "id": "5bmgiEwaO_zk",
        "outputId": "18a9d2ba-ac0d-4050-e164-295ee931826c"
      },
      "source": [
        "# How many unemployed clients have  subscribed to deposit?\r\n",
        "data.pivot_table(index=['job','deposit'], aggfunc='size')"
      ],
      "execution_count": null,
      "outputs": [
        {
          "output_type": "execute_result",
          "data": {
            "text/plain": [
              "job            deposit\n",
              "admin.         no         355\n",
              "               yes        306\n",
              "blue-collar    no         629\n",
              "               yes        346\n",
              "entrepreneur   no         105\n",
              "               yes         55\n",
              "housemaid      no          83\n",
              "               yes         60\n",
              "management     no         649\n",
              "               yes        669\n",
              "retired        no         142\n",
              "               yes        255\n",
              "self-employed  no         103\n",
              "               yes        103\n",
              "services       no         263\n",
              "               yes        189\n",
              "student        no          53\n",
              "               yes        129\n",
              "technician     no         481\n",
              "               yes        406\n",
              "unemployed     no          78\n",
              "               yes         92\n",
              "unknown        no          18\n",
              "               yes         12\n",
              "dtype: int64"
            ]
          },
          "metadata": {
            "tags": []
          },
          "execution_count": 81
        }
      ]
    },
    {
      "cell_type": "code",
      "metadata": {
        "colab": {
          "base_uri": "https://localhost:8080/"
        },
        "id": "40y4aCTvLVX9",
        "outputId": "a83aeb9b-138e-45f9-8efc-4a02bbc04b23"
      },
      "source": [
        "# The total number of missing values in the dataframe is:\r\n",
        "data.isna().sum()"
      ],
      "execution_count": null,
      "outputs": [
        {
          "output_type": "execute_result",
          "data": {
            "text/plain": [
              "Unnamed: 0    0\n",
              "age           0\n",
              "job           0\n",
              "marital       0\n",
              "education     0\n",
              "default       0\n",
              "balance       0\n",
              "housing       0\n",
              "loan          0\n",
              "contact       0\n",
              "day           0\n",
              "month         0\n",
              "duration      0\n",
              "campaign      0\n",
              "pdays         0\n",
              "previous      0\n",
              "poutcome      0\n",
              "deposit       0\n",
              "dtype: int64"
            ]
          },
          "metadata": {
            "tags": []
          },
          "execution_count": 18
        }
      ]
    },
    {
      "cell_type": "code",
      "metadata": {
        "colab": {
          "base_uri": "https://localhost:8080/"
        },
        "id": "_A-poNQ9LTKC",
        "outputId": "de20b5fe-7e59-4021-cc37-697188721268"
      },
      "source": [
        "# What is the shape of dataset after dropping \"Unnamed\"?\r\n",
        "data.drop('Unnamed: 0', axis=1).shape"
      ],
      "execution_count": null,
      "outputs": [
        {
          "output_type": "execute_result",
          "data": {
            "text/plain": [
              "(5581, 17)"
            ]
          },
          "metadata": {
            "tags": []
          },
          "execution_count": 64
        }
      ]
    },
    {
      "cell_type": "code",
      "metadata": {
        "colab": {
          "base_uri": "https://localhost:8080/"
        },
        "id": "X9s4w76bP0Ks",
        "outputId": "e59bca69-85c0-419d-cbe0-19af10e26435"
      },
      "source": [
        "# What is the probability that client is doing 'management' job & having loan is yes or no\r\n",
        "mgmt = data['job'].value_counts()['management']\r\n",
        "print(mgmt)\r\n",
        "all = data['job'].size\r\n",
        "print(all)\r\n",
        "print(mgmt/all)"
      ],
      "execution_count": null,
      "outputs": [
        {
          "output_type": "stream",
          "text": [
            "1318\n",
            "5581\n",
            "0.2361583945529475\n"
          ],
          "name": "stdout"
        }
      ]
    },
    {
      "cell_type": "code",
      "metadata": {
        "colab": {
          "base_uri": "https://localhost:8080/"
        },
        "id": "mJFb1nqSR3ON",
        "outputId": "75bbf667-abb9-4a3f-df97-98b9c8befcdd"
      },
      "source": [
        "# Find rows & columns having missing value & hence What is the shape of the missing ?\r\n",
        "missing_data = data[data.isna().any(axis=1)]\r\n",
        "print(missing_data.shape)"
      ],
      "execution_count": null,
      "outputs": [
        {
          "output_type": "stream",
          "text": [
            "(0, 18)\n"
          ],
          "name": "stdout"
        }
      ]
    },
    {
      "cell_type": "code",
      "metadata": {
        "colab": {
          "base_uri": "https://localhost:8080/"
        },
        "id": "F3LQt26oNQS0",
        "outputId": "87d14c06-a0eb-4957-f185-4564d5b36ebc"
      },
      "source": [
        "# The total number of duplicated rows in the dataframe is:\r\n",
        "print(\"\\nTotal number of duplicated rows is\")\r\n",
        "len(data)-len(data.drop_duplicates())"
      ],
      "execution_count": null,
      "outputs": [
        {
          "output_type": "stream",
          "text": [
            "\n",
            "Total number of duplicated rows is\n"
          ],
          "name": "stdout"
        },
        {
          "output_type": "execute_result",
          "data": {
            "text/plain": [
              "0"
            ]
          },
          "metadata": {
            "tags": []
          },
          "execution_count": 23
        }
      ]
    },
    {
      "cell_type": "code",
      "metadata": {
        "colab": {
          "base_uri": "https://localhost:8080/",
          "height": 623
        },
        "id": "A_qO-tEiN6jn",
        "outputId": "10a52828-8b5d-40ce-e5bf-b0a34ff2cbcd"
      },
      "source": [
        "# Plot boxplot & hence What is the median value of parameter balance\r\n",
        "plt.figure(figsize=(10,10))\r\n",
        "sns.boxplot(x='balance', data=data)\r\n",
        "plt.show()\r\n",
        "median = data.balance.median()\r\n",
        "print(median)"
      ],
      "execution_count": null,
      "outputs": [
        {
          "output_type": "display_data",
          "data": {
            "image/png": "[encoded data removed]",
            "text/plain": [
              "<Figure size 720x720 with 1 Axes>"
            ]
          },
          "metadata": {
            "tags": [],
            "needs_background": "light"
          }
        },
        {
          "output_type": "stream",
          "text": [
            "542.0\n"
          ],
          "name": "stdout"
        }
      ]
    },
    {
      "cell_type": "markdown",
      "metadata": {
        "id": "WK_P65U6ia_2"
      },
      "source": [
        "## **Programs**"
      ]
    },
    {
      "cell_type": "markdown",
      "metadata": {
        "id": "yZVUj26kihu2"
      },
      "source": [
        "WAP to find Outliers in parameter  'age'"
      ]
    },
    {
      "cell_type": "code",
      "metadata": {
        "colab": {
          "base_uri": "https://localhost:8080/",
          "height": 691
        },
        "id": "gKKm7FlZR9zU",
        "outputId": "4df53c86-14ed-48ff-a6d2-addce3da8868"
      },
      "source": [
        "plt.figure(figsize=(10,10))\r\n",
        "sns.boxplot(x='age', data=data)\r\n",
        "plt.show()\r\n",
        "\r\n",
        "# Outliers function\r\n",
        "def detect_outliers(data, lb, ub):\r\n",
        "    outliers = []\r\n",
        "    for i in data:\r\n",
        "        if i<=lb or i>=ub:\r\n",
        "            outliers.append(i)\r\n",
        "    return outliers\r\n",
        "\r\n",
        "# Implementng IQR method to detect outliers\r\n",
        "\r\n",
        "Q1, Q3 = np.percentile(data['age'], [25, 75])\r\n",
        "IQR = Q3 - Q1\r\n",
        "print('IQR = ', IQR)\r\n",
        "lb = Q1 - (1.5 * IQR)\r\n",
        "ub = Q3 + (1.5 * IQR)\r\n",
        "print('Lower bound = ', lb)\r\n",
        "print('Upper bound = ', ub)\r\n",
        "\r\n",
        "outliers = detect_outliers(data['age'], lb, ub)\r\n",
        "y = set(outliers)\r\n",
        "print('Outliers of the age column are: ', y)\r\n",
        "print('Number of outliers of the age column are: ', len(y))"
      ],
      "execution_count": null,
      "outputs": [
        {
          "output_type": "display_data",
          "data": {
            "image/png": "[encoded data removed]",
            "text/plain": [
              "<Figure size 720x720 with 1 Axes>"
            ]
          },
          "metadata": {
            "tags": [],
            "needs_background": "light"
          }
        },
        {
          "output_type": "stream",
          "text": [
            "IQR =  17.0\n",
            "Lower bound =  6.5\n",
            "Upper bound =  74.5\n",
            "Outliers of the age column are:  {75, 76, 77, 78, 79, 80, 81, 82, 83, 84, 86, 87, 88, 89, 92, 93}\n",
            "Number of outliers of the age column are:  16\n"
          ],
          "name": "stdout"
        }
      ]
    },
    {
      "cell_type": "markdown",
      "metadata": {
        "id": "q1GuQbYLZu2k"
      },
      "source": [
        "WAP to find Confidence Interval of mean of age for Population (Client with Tertiary Education)"
      ]
    },
    {
      "cell_type": "code",
      "metadata": {
        "colab": {
          "base_uri": "https://localhost:8080/",
          "height": 204
        },
        "id": "EKIvnYR0SEoV",
        "outputId": "1b7b595e-dffb-4451-ac68-36b89faf7315"
      },
      "source": [
        "# WAP to find Confidence Interval of mean of age for Population (Client with Tertiary Education)\r\n",
        "\r\n",
        "is_tertiary = data['education'] == 'tertiary'\r\n",
        "df1 = data[is_tertiary]\r\n",
        "df1.head()"
      ],
      "execution_count": null,
      "outputs": [
        {
          "output_type": "execute_result",
          "data": {
            "text/html": [
              "<div>\n",
              "<style scoped>\n",
              "    .dataframe tbody tr th:only-of-type {\n",
              "        vertical-align: middle;\n",
              "    }\n",
              "\n",
              "    .dataframe tbody tr th {\n",
              "        vertical-align: top;\n",
              "    }\n",
              "\n",
              "    .dataframe thead th {\n",
              "        text-align: right;\n",
              "    }\n",
              "</style>\n",
              "<table border=\"1\" class=\"dataframe\">\n",
              "  <thead>\n",
              "    <tr style=\"text-align: right;\">\n",
              "      <th></th>\n",
              "      <th>Unnamed: 0</th>\n",
              "      <th>age</th>\n",
              "      <th>job</th>\n",
              "      <th>marital</th>\n",
              "      <th>education</th>\n",
              "      <th>default</th>\n",
              "      <th>balance</th>\n",
              "      <th>housing</th>\n",
              "      <th>loan</th>\n",
              "      <th>contact</th>\n",
              "      <th>day</th>\n",
              "      <th>month</th>\n",
              "      <th>duration</th>\n",
              "      <th>campaign</th>\n",
              "      <th>pdays</th>\n",
              "      <th>previous</th>\n",
              "      <th>poutcome</th>\n",
              "      <th>deposit</th>\n",
              "    </tr>\n",
              "  </thead>\n",
              "  <tbody>\n",
              "    <tr>\n",
              "      <th>3</th>\n",
              "      <td>3</td>\n",
              "      <td>34</td>\n",
              "      <td>management</td>\n",
              "      <td>single</td>\n",
              "      <td>tertiary</td>\n",
              "      <td>no</td>\n",
              "      <td>1396</td>\n",
              "      <td>yes</td>\n",
              "      <td>no</td>\n",
              "      <td>cellular</td>\n",
              "      <td>17</td>\n",
              "      <td>jul</td>\n",
              "      <td>630</td>\n",
              "      <td>1</td>\n",
              "      <td>-1</td>\n",
              "      <td>0</td>\n",
              "      <td>unknown</td>\n",
              "      <td>no</td>\n",
              "    </tr>\n",
              "    <tr>\n",
              "      <th>7</th>\n",
              "      <td>7</td>\n",
              "      <td>46</td>\n",
              "      <td>management</td>\n",
              "      <td>married</td>\n",
              "      <td>tertiary</td>\n",
              "      <td>no</td>\n",
              "      <td>3</td>\n",
              "      <td>no</td>\n",
              "      <td>no</td>\n",
              "      <td>cellular</td>\n",
              "      <td>18</td>\n",
              "      <td>aug</td>\n",
              "      <td>92</td>\n",
              "      <td>4</td>\n",
              "      <td>-1</td>\n",
              "      <td>0</td>\n",
              "      <td>unknown</td>\n",
              "      <td>no</td>\n",
              "    </tr>\n",
              "    <tr>\n",
              "      <th>11</th>\n",
              "      <td>11</td>\n",
              "      <td>32</td>\n",
              "      <td>technician</td>\n",
              "      <td>single</td>\n",
              "      <td>tertiary</td>\n",
              "      <td>no</td>\n",
              "      <td>569</td>\n",
              "      <td>no</td>\n",
              "      <td>yes</td>\n",
              "      <td>cellular</td>\n",
              "      <td>29</td>\n",
              "      <td>jan</td>\n",
              "      <td>348</td>\n",
              "      <td>1</td>\n",
              "      <td>-1</td>\n",
              "      <td>0</td>\n",
              "      <td>unknown</td>\n",
              "      <td>no</td>\n",
              "    </tr>\n",
              "    <tr>\n",
              "      <th>16</th>\n",
              "      <td>16</td>\n",
              "      <td>29</td>\n",
              "      <td>technician</td>\n",
              "      <td>single</td>\n",
              "      <td>tertiary</td>\n",
              "      <td>no</td>\n",
              "      <td>673</td>\n",
              "      <td>yes</td>\n",
              "      <td>no</td>\n",
              "      <td>cellular</td>\n",
              "      <td>9</td>\n",
              "      <td>feb</td>\n",
              "      <td>835</td>\n",
              "      <td>3</td>\n",
              "      <td>-1</td>\n",
              "      <td>0</td>\n",
              "      <td>unknown</td>\n",
              "      <td>yes</td>\n",
              "    </tr>\n",
              "    <tr>\n",
              "      <th>17</th>\n",
              "      <td>17</td>\n",
              "      <td>38</td>\n",
              "      <td>management</td>\n",
              "      <td>married</td>\n",
              "      <td>tertiary</td>\n",
              "      <td>no</td>\n",
              "      <td>-498</td>\n",
              "      <td>no</td>\n",
              "      <td>no</td>\n",
              "      <td>cellular</td>\n",
              "      <td>14</td>\n",
              "      <td>aug</td>\n",
              "      <td>85</td>\n",
              "      <td>6</td>\n",
              "      <td>-1</td>\n",
              "      <td>0</td>\n",
              "      <td>unknown</td>\n",
              "      <td>no</td>\n",
              "    </tr>\n",
              "  </tbody>\n",
              "</table>\n",
              "</div>"
            ],
            "text/plain": [
              "    Unnamed: 0  age         job  marital  ... pdays previous  poutcome deposit\n",
              "3            3   34  management   single  ...    -1        0   unknown      no\n",
              "7            7   46  management  married  ...    -1        0   unknown      no\n",
              "11          11   32  technician   single  ...    -1        0   unknown      no\n",
              "16          16   29  technician   single  ...    -1        0   unknown     yes\n",
              "17          17   38  management  married  ...    -1        0   unknown      no\n",
              "\n",
              "[5 rows x 18 columns]"
            ]
          },
          "metadata": {
            "tags": []
          },
          "execution_count": 76
        }
      ]
    },
    {
      "cell_type": "code",
      "metadata": {
        "colab": {
          "base_uri": "https://localhost:8080/",
          "height": 419
        },
        "id": "SJBHUHFQZypG",
        "outputId": "d7e87d1f-52c1-468c-95a5-1d4da578f5fb"
      },
      "source": [
        "df = df1[['age', 'education']].dropna()\r\n",
        "df"
      ],
      "execution_count": null,
      "outputs": [
        {
          "output_type": "execute_result",
          "data": {
            "text/html": [
              "<div>\n",
              "<style scoped>\n",
              "    .dataframe tbody tr th:only-of-type {\n",
              "        vertical-align: middle;\n",
              "    }\n",
              "\n",
              "    .dataframe tbody tr th {\n",
              "        vertical-align: top;\n",
              "    }\n",
              "\n",
              "    .dataframe thead th {\n",
              "        text-align: right;\n",
              "    }\n",
              "</style>\n",
              "<table border=\"1\" class=\"dataframe\">\n",
              "  <thead>\n",
              "    <tr style=\"text-align: right;\">\n",
              "      <th></th>\n",
              "      <th>age</th>\n",
              "      <th>education</th>\n",
              "    </tr>\n",
              "  </thead>\n",
              "  <tbody>\n",
              "    <tr>\n",
              "      <th>3</th>\n",
              "      <td>34</td>\n",
              "      <td>tertiary</td>\n",
              "    </tr>\n",
              "    <tr>\n",
              "      <th>7</th>\n",
              "      <td>46</td>\n",
              "      <td>tertiary</td>\n",
              "    </tr>\n",
              "    <tr>\n",
              "      <th>11</th>\n",
              "      <td>32</td>\n",
              "      <td>tertiary</td>\n",
              "    </tr>\n",
              "    <tr>\n",
              "      <th>16</th>\n",
              "      <td>29</td>\n",
              "      <td>tertiary</td>\n",
              "    </tr>\n",
              "    <tr>\n",
              "      <th>17</th>\n",
              "      <td>38</td>\n",
              "      <td>tertiary</td>\n",
              "    </tr>\n",
              "    <tr>\n",
              "      <th>...</th>\n",
              "      <td>...</td>\n",
              "      <td>...</td>\n",
              "    </tr>\n",
              "    <tr>\n",
              "      <th>5561</th>\n",
              "      <td>49</td>\n",
              "      <td>tertiary</td>\n",
              "    </tr>\n",
              "    <tr>\n",
              "      <th>5564</th>\n",
              "      <td>43</td>\n",
              "      <td>tertiary</td>\n",
              "    </tr>\n",
              "    <tr>\n",
              "      <th>5566</th>\n",
              "      <td>36</td>\n",
              "      <td>tertiary</td>\n",
              "    </tr>\n",
              "    <tr>\n",
              "      <th>5567</th>\n",
              "      <td>51</td>\n",
              "      <td>tertiary</td>\n",
              "    </tr>\n",
              "    <tr>\n",
              "      <th>5570</th>\n",
              "      <td>66</td>\n",
              "      <td>tertiary</td>\n",
              "    </tr>\n",
              "  </tbody>\n",
              "</table>\n",
              "<p>1871 rows × 2 columns</p>\n",
              "</div>"
            ],
            "text/plain": [
              "      age education\n",
              "3      34  tertiary\n",
              "7      46  tertiary\n",
              "11     32  tertiary\n",
              "16     29  tertiary\n",
              "17     38  tertiary\n",
              "...   ...       ...\n",
              "5561   49  tertiary\n",
              "5564   43  tertiary\n",
              "5566   36  tertiary\n",
              "5567   51  tertiary\n",
              "5570   66  tertiary\n",
              "\n",
              "[1871 rows x 2 columns]"
            ]
          },
          "metadata": {
            "tags": []
          },
          "execution_count": 77
        }
      ]
    },
    {
      "cell_type": "code",
      "metadata": {
        "colab": {
          "base_uri": "https://localhost:8080/",
          "height": 142
        },
        "id": "jEOWnJIZhbjL",
        "outputId": "90b18c56-3408-4a8d-ec6f-e516e17a2326"
      },
      "source": [
        "agg_values = df.groupby(\"education\").agg({\"age\" : [np.mean,np.std,np.size]})\r\n",
        "agg_values"
      ],
      "execution_count": null,
      "outputs": [
        {
          "output_type": "execute_result",
          "data": {
            "text/html": [
              "<div>\n",
              "<style scoped>\n",
              "    .dataframe tbody tr th:only-of-type {\n",
              "        vertical-align: middle;\n",
              "    }\n",
              "\n",
              "    .dataframe tbody tr th {\n",
              "        vertical-align: top;\n",
              "    }\n",
              "\n",
              "    .dataframe thead tr th {\n",
              "        text-align: left;\n",
              "    }\n",
              "\n",
              "    .dataframe thead tr:last-of-type th {\n",
              "        text-align: right;\n",
              "    }\n",
              "</style>\n",
              "<table border=\"1\" class=\"dataframe\">\n",
              "  <thead>\n",
              "    <tr>\n",
              "      <th></th>\n",
              "      <th colspan=\"3\" halign=\"left\">age</th>\n",
              "    </tr>\n",
              "    <tr>\n",
              "      <th></th>\n",
              "      <th>mean</th>\n",
              "      <th>std</th>\n",
              "      <th>size</th>\n",
              "    </tr>\n",
              "    <tr>\n",
              "      <th>education</th>\n",
              "      <th></th>\n",
              "      <th></th>\n",
              "      <th></th>\n",
              "    </tr>\n",
              "  </thead>\n",
              "  <tbody>\n",
              "    <tr>\n",
              "      <th>tertiary</th>\n",
              "      <td>39.454837</td>\n",
              "      <td>10.650147</td>\n",
              "      <td>1871</td>\n",
              "    </tr>\n",
              "  </tbody>\n",
              "</table>\n",
              "</div>"
            ],
            "text/plain": [
              "                 age                 \n",
              "                mean        std  size\n",
              "education                            \n",
              "tertiary   39.454837  10.650147  1871"
            ]
          },
          "metadata": {
            "tags": []
          },
          "execution_count": 79
        }
      ]
    },
    {
      "cell_type": "code",
      "metadata": {
        "colab": {
          "base_uri": "https://localhost:8080/"
        },
        "id": "z-WEl4oPhrE4",
        "outputId": "2f968c2a-687f-4ccf-9d29-db2aa99bb629"
      },
      "source": [
        "mean_ter = 39.454837\r\n",
        "std_ter = 10.650147\r\n",
        "size_ter = 1871\r\n",
        "z = 1.96\r\n",
        "value = std_ter / np.sqrt(size_ter)\r\n",
        "lcb = mean_ter - z * value\r\n",
        "ucb = mean_ter + z * value\r\n",
        "print('Confidence Interval:')\r\n",
        "print(lcb,ucb)"
      ],
      "execution_count": null,
      "outputs": [
        {
          "output_type": "stream",
          "text": [
            "Confidence Interval:\n",
            "38.97225093208752 39.937423067912476\n"
          ],
          "name": "stdout"
        }
      ]
    }
  ]
}